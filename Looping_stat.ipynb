{
 "cells": [
  {
   "cell_type": "code",
   "execution_count": null,
   "id": "0a6d954e",
   "metadata": {},
   "outputs": [],
   "source": [
    "data = [' afsan ','khan ','saransh a ',' pooja']\n",
    "\n",
    "#remove space and extract the data\n",
    "\n",
    "data = ['messi@gmail.com' ,'pooja@yahoo.in','kavya@outlook.com']\n",
    "\n",
    "#store the user name messi,pooja in new list\n",
    "\n",
    "#data extract the data which ends with gmail.com\n"
   ]
  },
  {
   "cell_type": "code",
   "execution_count": 9,
   "id": "cb6fe721",
   "metadata": {},
   "outputs": [
    {
     "ename": "NameError",
     "evalue": "name 'clean_data' is not defined",
     "output_type": "error",
     "traceback": [
      "\u001b[1;31m---------------------------------------------------------------------------\u001b[0m",
      "\u001b[1;31mNameError\u001b[0m                                 Traceback (most recent call last)",
      "Cell \u001b[1;32mIn[9], line 4\u001b[0m\n\u001b[0;32m      1\u001b[0m data \u001b[38;5;241m=\u001b[39m [\u001b[38;5;124m'\u001b[39m\u001b[38;5;124m afsan \u001b[39m\u001b[38;5;124m'\u001b[39m,\u001b[38;5;124m'\u001b[39m\u001b[38;5;124mkhan \u001b[39m\u001b[38;5;124m'\u001b[39m,\u001b[38;5;124m'\u001b[39m\u001b[38;5;124msaransh a \u001b[39m\u001b[38;5;124m'\u001b[39m,\u001b[38;5;124m'\u001b[39m\u001b[38;5;124m pooja\u001b[39m\u001b[38;5;124m'\u001b[39m]\n\u001b[0;32m      3\u001b[0m \u001b[38;5;28;01mfor\u001b[39;00m i \u001b[38;5;129;01min\u001b[39;00m data:\n\u001b[1;32m----> 4\u001b[0m     clean_data\u001b[38;5;241m.\u001b[39mappend(data\u001b[38;5;241m.\u001b[39mstrip())\n\u001b[0;32m      5\u001b[0m \u001b[38;5;28mprint\u001b[39m(clean_data)\n",
      "\u001b[1;31mNameError\u001b[0m: name 'clean_data' is not defined"
     ]
    }
   ],
   "source": [
    "data = [' afsan ','khan ','saransh a ',' pooja']\n",
    "\n",
    "for i in data:\n",
    "    clean_data.append(data.strip())\n",
    "print(clean_data)\n",
    "        \n",
    "    \n",
    "   \n",
    "    "
   ]
  },
  {
   "cell_type": "code",
   "execution_count": 15,
   "id": "858e595f",
   "metadata": {},
   "outputs": [],
   "source": [
    "a = 23\n",
    "b = list(range(1,11))\n",
    "\n"
   ]
  },
  {
   "cell_type": "code",
   "execution_count": null,
   "id": "4fc3d039",
   "metadata": {},
   "outputs": [],
   "source": [
    "for i in range(1,51)\n"
   ]
  },
  {
   "cell_type": "code",
   "execution_count": 17,
   "id": "98ecb5a0",
   "metadata": {},
   "outputs": [
    {
     "data": {
      "text/plain": [
       "['messi', 'ramesh', 'pooja', 'oajd']"
      ]
     },
     "execution_count": 17,
     "metadata": {},
     "output_type": "execute_result"
    }
   ],
   "source": [
    "data = ['messi@gmail.com','ramesh@yahoo.in','pooja@gmail.com','oajd@email.com']\n",
    "\n",
    "clean_data = [i.split('@')[0] for i in data]\n",
    "\n",
    "clean_data"
   ]
  },
  {
   "cell_type": "code",
   "execution_count": 22,
   "id": "30dcee3d",
   "metadata": {},
   "outputs": [
    {
     "data": {
      "text/plain": [
       "[10, 20, 34]"
      ]
     },
     "execution_count": 22,
     "metadata": {},
     "output_type": "execute_result"
    }
   ],
   "source": [
    "a = [10,20,34,33,35,37]\n",
    "\n",
    "even = [i for i in a if i%2 == 0]\n",
    "\n",
    "even"
   ]
  },
  {
   "cell_type": "code",
   "execution_count": null,
   "id": "f5660e77",
   "metadata": {},
   "outputs": [],
   "source": [
    "a = 'python'\n",
    "\n",
    "for i in range(-1:-len(a)-1):\n",
    "    print a"
   ]
  },
  {
   "cell_type": "code",
   "execution_count": 9,
   "id": "46d875ae",
   "metadata": {},
   "outputs": [
    {
     "name": "stdout",
     "output_type": "stream",
     "text": [
      "pppppp\n",
      "yyyyy\n",
      "tttt\n",
      "hhh\n",
      "oo\n",
      "n\n"
     ]
    }
   ],
   "source": [
    "a = 'python'\n",
    "\n",
    "for i in range(0,len(a)):\n",
    "    print(a[i]*(len(a)-i))\n",
    "\n"
   ]
  },
  {
   "cell_type": "code",
   "execution_count": 13,
   "id": "a2566f58",
   "metadata": {},
   "outputs": [
    {
     "name": "stdout",
     "output_type": "stream",
     "text": [
      "0\n",
      "0\n",
      "1\n",
      "1\n",
      "2\n",
      "2\n",
      "3\n",
      "4\n",
      "4\n",
      "bye\n"
     ]
    }
   ],
   "source": [
    "for i in range(5):\n",
    "    print(i)\n",
    "    if i == 3:\n",
    "        continue\n",
    "    print(i)\n",
    "print('bye')"
   ]
  },
  {
   "cell_type": "code",
   "execution_count": 17,
   "id": "bc1eef74",
   "metadata": {},
   "outputs": [
    {
     "name": "stdout",
     "output_type": "stream",
     "text": [
      "nnnnnn\n",
      "ooooo\n",
      "hhhh\n",
      "ttt\n",
      "yy\n",
      "p\n"
     ]
    }
   ],
   "source": [
    "a = 'python'\n",
    "\n",
    "for i in range(6,0,-1):\n",
    "    print(a[i-1]*i)"
   ]
  },
  {
   "cell_type": "code",
   "execution_count": 24,
   "id": "a637f7fe",
   "metadata": {},
   "outputs": [
    {
     "name": "stdout",
     "output_type": "stream",
     "text": [
      "nnnnnn\n",
      "ooooo\n",
      "hhhh\n",
      "ttt\n",
      "yy\n",
      "p\n"
     ]
    }
   ],
   "source": [
    "a = 'python'\n",
    "i = 6\n",
    "while i >= 1:\n",
    "    print(a[i-1]*i)\n",
    "    i-=1\n"
   ]
  },
  {
   "cell_type": "code",
   "execution_count": 28,
   "id": "56eb580e",
   "metadata": {},
   "outputs": [
    {
     "name": "stdout",
     "output_type": "stream",
     "text": [
      "0\n"
     ]
    }
   ],
   "source": [
    "for i in range(4):\n",
    "    if i == 1:\n",
    "        break\n",
    "    print(i)\n",
    "else:\n",
    "    print('Hi')"
   ]
  },
  {
   "cell_type": "code",
   "execution_count": 32,
   "id": "48518870",
   "metadata": {},
   "outputs": [
    {
     "name": "stdout",
     "output_type": "stream",
     "text": [
      "enter a num to check prime or not12\n",
      "not a prime\n"
     ]
    }
   ],
   "source": [
    "data = eval(input('enter a num to check prime or not'))\n",
    "for i in range(2,data):\n",
    "    if(data%2 == 0):\n",
    "        print('not a prime')\n",
    "        break\n",
    "else:\n",
    "    print('prime num')\n",
    "    "
   ]
  },
  {
   "cell_type": "code",
   "execution_count": 33,
   "id": "55e4208e",
   "metadata": {},
   "outputs": [
    {
     "data": {
      "text/plain": [
       "True"
      ]
     },
     "execution_count": 33,
     "metadata": {},
     "output_type": "execute_result"
    }
   ],
   "source": [
    "database = {'pooja':'abc','soumya':'xyz'}\n",
    "\n",
    "def login(username,password):\n",
    "    if database.get(username) == password:\n",
    "        return True\n",
    "    return False\n",
    "login('pooja','abc')"
   ]
  },
  {
   "cell_type": "code",
   "execution_count": null,
   "id": "c7a53c5b",
   "metadata": {},
   "outputs": [],
   "source": []
  }
 ],
 "metadata": {
  "kernelspec": {
   "display_name": "Python 3 (ipykernel)",
   "language": "python",
   "name": "python3"
  },
  "language_info": {
   "codemirror_mode": {
    "name": "ipython",
    "version": 3
   },
   "file_extension": ".py",
   "mimetype": "text/x-python",
   "name": "python",
   "nbconvert_exporter": "python",
   "pygments_lexer": "ipython3",
   "version": "3.11.4"
  }
 },
 "nbformat": 4,
 "nbformat_minor": 5
}
